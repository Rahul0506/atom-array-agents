{
 "cells": [
  {
   "cell_type": "code",
   "execution_count": 1,
   "id": "8eb9fdfb",
   "metadata": {},
   "outputs": [],
   "source": [
    "tar_size = 5\n",
    "targets = []\n"
   ]
  },
  {
   "cell_type": "code",
   "execution_count": 4,
   "id": "4ddf6c7f",
   "metadata": {},
   "outputs": [
    {
     "data": {
      "text/plain": [
       "7.0710678118654755"
      ]
     },
     "execution_count": 4,
     "metadata": {},
     "output_type": "execute_result"
    }
   ],
   "source": [
    "((tar_size ** 2) * 2) ** 0.5"
   ]
  },
  {
   "cell_type": "code",
   "execution_count": 9,
   "id": "8dcd9342",
   "metadata": {},
   "outputs": [],
   "source": [
    "import numpy as np\n",
    "\n",
    "arr_size = int(np.ceil(tar_size * (2 ** 0.5)))"
   ]
  },
  {
   "cell_type": "code",
   "execution_count": 10,
   "id": "da2578ab",
   "metadata": {},
   "outputs": [],
   "source": [
    "padd = (arr_size - tar_size) // 2"
   ]
  },
  {
   "cell_type": "code",
   "execution_count": 11,
   "id": "b511bfb6",
   "metadata": {},
   "outputs": [
    {
     "data": {
      "text/plain": [
       "1"
      ]
     },
     "execution_count": 11,
     "metadata": {},
     "output_type": "execute_result"
    }
   ],
   "source": [
    "padd"
   ]
  },
  {
   "cell_type": "code",
   "execution_count": 29,
   "id": "dec5807a",
   "metadata": {},
   "outputs": [
    {
     "name": "stdout",
     "output_type": "stream",
     "text": [
      "8 in 12, padded by 2\n"
     ]
    }
   ],
   "source": [
    "tar_size = 8\n",
    "targets = []\n",
    "\n",
    "arr_size = int(np.ceil(tar_size * (2 ** 0.5)))\n",
    "padd = (arr_size - tar_size) // 2\n",
    "\n",
    "for r in range(tar_size):\n",
    "    for c in range(tar_size):\n",
    "        targets.append((r+padd, c+padd))\n",
    "\n",
    "print(f\"{tar_size} in {arr_size}, padded by {padd}\")"
   ]
  },
  {
   "cell_type": "code",
   "execution_count": 30,
   "id": "208da050",
   "metadata": {},
   "outputs": [
    {
     "name": "stdout",
     "output_type": "stream",
     "text": [
      "['_', '_', '_', '_', '_', '_', '_', '_', '_', '_', '_', '_']\n",
      "['_', '_', '_', '_', '_', '_', '_', '_', '_', '_', '_', '_']\n",
      "['_', '_', '0', '0', '0', '0', '0', '0', '0', '0', '_', '_']\n",
      "['_', '_', '0', '0', '0', '0', '0', '0', '0', '0', '_', '_']\n",
      "['_', '_', '0', '0', '0', '0', '0', '0', '0', '0', '_', '_']\n",
      "['_', '_', '0', '0', '0', '0', '0', '0', '0', '0', '_', '_']\n",
      "['_', '_', '0', '0', '0', '0', '0', '0', '0', '0', '_', '_']\n",
      "['_', '_', '0', '0', '0', '0', '0', '0', '0', '0', '_', '_']\n",
      "['_', '_', '0', '0', '0', '0', '0', '0', '0', '0', '_', '_']\n",
      "['_', '_', '0', '0', '0', '0', '0', '0', '0', '0', '_', '_']\n",
      "['_', '_', '_', '_', '_', '_', '_', '_', '_', '_', '_', '_']\n",
      "['_', '_', '_', '_', '_', '_', '_', '_', '_', '_', '_', '_']\n"
     ]
    }
   ],
   "source": [
    "grid = [[\"_\" for _ in range(arr_size)] for __ in range(arr_size)]\n",
    "\n",
    "for r, c in targets:\n",
    "    grid[r][c] = \"0\"\n",
    "    \n",
    "for row in grid:\n",
    "    print(row)"
   ]
  },
  {
   "cell_type": "code",
   "execution_count": null,
   "id": "ddc61d39",
   "metadata": {},
   "outputs": [],
   "source": []
  }
 ],
 "metadata": {
  "kernelspec": {
   "display_name": "Python 3 (ipykernel)",
   "language": "python",
   "name": "python3"
  },
  "language_info": {
   "codemirror_mode": {
    "name": "ipython",
    "version": 3
   },
   "file_extension": ".py",
   "mimetype": "text/x-python",
   "name": "python",
   "nbconvert_exporter": "python",
   "pygments_lexer": "ipython3",
   "version": "3.8.15"
  }
 },
 "nbformat": 4,
 "nbformat_minor": 5
}
