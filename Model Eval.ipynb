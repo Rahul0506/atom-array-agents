{
 "cells": [
  {
   "cell_type": "code",
   "execution_count": 19,
   "id": "5d03fc20",
   "metadata": {},
   "outputs": [],
   "source": [
    "import torch\n",
    "import gym\n",
    "import numpy as np\n",
    "import matplotlib.pyplot as plt\n",
    "from matplotlib.animation import FuncAnimation\n",
    "\n",
    "from gym_atom_array.env import ArrayEnv, Config"
   ]
  },
  {
   "cell_type": "markdown",
   "id": "4a176e56",
   "metadata": {},
   "source": [
    "## Specify exp name and model version"
   ]
  },
  {
   "cell_type": "code",
   "execution_count": 66,
   "id": "121e54b8",
   "metadata": {},
   "outputs": [],
   "source": [
    "wandb_name = \"run-20230212_035718-3f7fh14r\"\n",
    "model_version = \"final\"\n",
    "\n",
    "model_path = f\"wandb/{wandb_name}/files/agent-{model_version}.pt\""
   ]
  },
  {
   "cell_type": "markdown",
   "id": "40bfe6b8",
   "metadata": {},
   "source": [
    "## Configure environment and load model"
   ]
  },
  {
   "cell_type": "code",
   "execution_count": 67,
   "id": "9375d752",
   "metadata": {},
   "outputs": [],
   "source": [
    "from argparse import Namespace\n",
    "from clean_agents.ppo import make_env\n",
    "from clean_agents.networks import AgentOld5x5 as Agent\n",
    "\n",
    "args = Namespace(Render=False, TargetSize=3, ArraySize=5, DefaultPenalty=-0.1, TargetPickUp=-5, TargetRelease=10, TimeLimit=200)\n",
    "envs = gym.vector.SyncVectorEnv(\n",
    "    [make_env(1, args),]\n",
    ")\n",
    "device = torch.device(\"cpu\")"
   ]
  },
  {
   "cell_type": "code",
   "execution_count": 68,
   "id": "25d7d2c6",
   "metadata": {
    "scrolled": true
   },
   "outputs": [
    {
     "data": {
      "text/plain": [
       "AgentOld5x5(\n",
       "  (extractor): Sequential(\n",
       "    (0): Conv2d(3, 32, kernel_size=(3, 3), stride=(1, 1), padding=(1, 1))\n",
       "    (1): ReLU()\n",
       "    (2): Conv2d(32, 32, kernel_size=(3, 3), stride=(1, 1))\n",
       "    (3): ReLU()\n",
       "    (4): Flatten(start_dim=1, end_dim=-1)\n",
       "    (5): Linear(in_features=288, out_features=64, bias=True)\n",
       "  )\n",
       "  (critic): Sequential(\n",
       "    (0): Sequential(\n",
       "      (0): Conv2d(3, 32, kernel_size=(3, 3), stride=(1, 1), padding=(1, 1))\n",
       "      (1): ReLU()\n",
       "      (2): Conv2d(32, 32, kernel_size=(3, 3), stride=(1, 1))\n",
       "      (3): ReLU()\n",
       "      (4): Flatten(start_dim=1, end_dim=-1)\n",
       "      (5): Linear(in_features=288, out_features=64, bias=True)\n",
       "    )\n",
       "    (1): Linear(in_features=64, out_features=64, bias=True)\n",
       "    (2): ReLU()\n",
       "    (3): Linear(in_features=64, out_features=64, bias=True)\n",
       "    (4): ReLU()\n",
       "    (5): Linear(in_features=64, out_features=1, bias=True)\n",
       "  )\n",
       "  (actor): Sequential(\n",
       "    (0): Sequential(\n",
       "      (0): Conv2d(3, 32, kernel_size=(3, 3), stride=(1, 1), padding=(1, 1))\n",
       "      (1): ReLU()\n",
       "      (2): Conv2d(32, 32, kernel_size=(3, 3), stride=(1, 1))\n",
       "      (3): ReLU()\n",
       "      (4): Flatten(start_dim=1, end_dim=-1)\n",
       "      (5): Linear(in_features=288, out_features=64, bias=True)\n",
       "    )\n",
       "    (1): Linear(in_features=64, out_features=64, bias=True)\n",
       "    (2): ReLU()\n",
       "    (3): Linear(in_features=64, out_features=64, bias=True)\n",
       "    (4): ReLU()\n",
       "    (5): Linear(in_features=64, out_features=6, bias=True)\n",
       "  )\n",
       ")"
      ]
     },
     "execution_count": 68,
     "metadata": {},
     "output_type": "execute_result"
    }
   ],
   "source": [
    "agent = Agent(envs, device)\n",
    "state_dict = torch.load(model_path)\n",
    "agent.load_state_dict(state_dict)\n",
    "\n",
    "agent.eval()"
   ]
  },
  {
   "cell_type": "markdown",
   "id": "b945250f",
   "metadata": {},
   "source": [
    "# Comparison"
   ]
  },
  {
   "cell_type": "code",
   "execution_count": 69,
   "id": "9140ded6",
   "metadata": {},
   "outputs": [],
   "source": [
    "def eval_agent(rl_agent, next_obs):\n",
    "    next_obs = torch.Tensor(next_obs)\n",
    "\n",
    "    num_moves, moves_length = 0, 0\n",
    "    with torch.no_grad():\n",
    "        holding = False\n",
    "        \n",
    "        i = 0\n",
    "        done = False\n",
    "        while not done and i < args.TimeLimit:\n",
    "            action, logprob, _, _ = rl_agent.get_action_and_value(next_obs)\n",
    "            action = action.cpu().numpy()\n",
    "\n",
    "            next_obs, reward, done, info = envs.step(action)\n",
    "            next_obs = torch.Tensor(next_obs)\n",
    "            i += 1\n",
    "            \n",
    "            act = action[0]\n",
    "            if holding and act == 5:\n",
    "                holding = False\n",
    "                num_moves += 1                \n",
    "            \n",
    "            if holding:\n",
    "                moves_length += 1\n",
    "    \n",
    "            if not holding and act == 4:\n",
    "                holding = True\n",
    "    \n",
    "    if not done:\n",
    "        print(\"Timed out\")\n",
    "    return num_moves, moves_length"
   ]
  },
  {
   "cell_type": "code",
   "execution_count": 70,
   "id": "5fc7cfda",
   "metadata": {},
   "outputs": [],
   "source": [
    "from classic_algos.LSAP import LSAPPlanner\n",
    "from classic_algos.ASA import ASAPlanner\n",
    "\n",
    "def get_total_len(moves):\n",
    "    s = 0\n",
    "    for start, end in moves:\n",
    "        s += abs(start[0] - end[0]) + abs(start[1] - end[1])\n",
    "    return s"
   ]
  },
  {
   "cell_type": "code",
   "execution_count": 71,
   "id": "d10da19c",
   "metadata": {},
   "outputs": [],
   "source": [
    "num_moves = [[], [], []]\n",
    "move_length = [[], [], []]\n",
    "names = [\"LSAP\", \"ASA\", \"RL\"]"
   ]
  },
  {
   "cell_type": "code",
   "execution_count": 76,
   "id": "e67ad69a",
   "metadata": {},
   "outputs": [],
   "source": [
    "N_ITERS = 20\n",
    "for _ in range(N_ITERS):\n",
    "    next_obs = envs.reset()\n",
    "#     envs.envs[0].render()\n",
    "\n",
    "    n_size = envs.single_observation_space.shape[1]\n",
    "    atom_grid, tar_grid, _ = next_obs[0]\n",
    "\n",
    "    atoms, targets = [], []\n",
    "    for r in range(n_size):\n",
    "        for c in range(n_size):\n",
    "            if atom_grid[r][c] == 1:\n",
    "                atoms.append((r, c))\n",
    "            if tar_grid[r][c] == 1:\n",
    "                targets.append((r, c))\n",
    "\n",
    "    lsap_agent = LSAPPlanner(n_size, n_size, targets, \"cityblock\")\n",
    "    moves_, num_ = lsap_agent.get_moves(atoms)\n",
    "    len_ = get_total_len(moves_)\n",
    "    num_moves[0].append(num_)\n",
    "    move_length[0].append(len_)\n",
    "\n",
    "    asa_agent = ASAPlanner(n_size, n_size, targets)\n",
    "    moves_, num_ = asa_agent.get_moves(atoms)\n",
    "    len_ = get_total_len(moves_)\n",
    "    num_moves[1].append(num_)\n",
    "    move_length[1].append(len_)\n",
    "\n",
    "    num_, len_ = eval_agent(agent, next_obs)\n",
    "    num_moves[2].append(num_)\n",
    "    move_length[2].append(len_)"
   ]
  },
  {
   "cell_type": "code",
   "execution_count": 127,
   "id": "b5cc53bb",
   "metadata": {},
   "outputs": [
    {
     "data": {
      "text/plain": [
       "Text(0, 0.5, 'Count')"
      ]
     },
     "execution_count": 127,
     "metadata": {},
     "output_type": "execute_result"
    },
    {
     "data": {
      "image/png": "[encoded data removed]",
      "text/plain": [
       "<Figure size 640x480 with 1 Axes>"
      ]
     },
     "metadata": {},
     "output_type": "display_data"
    }
   ],
   "source": [
    "plt.hist(num_moves, bins=range(1, 20), histtype=\"bar\")\n",
    "plt.legend(names)\n",
    "plt.xlabel(\"Number of moves\")\n",
    "plt.ylabel(\"Count\")"
   ]
  },
  {
   "cell_type": "code",
   "execution_count": 128,
   "id": "e97bde3e",
   "metadata": {},
   "outputs": [
    {
     "data": {
      "text/plain": [
       "Text(0, 0.5, 'Count')"
      ]
     },
     "execution_count": 128,
     "metadata": {},
     "output_type": "execute_result"
    },
    {
     "data": {
      "image/png": "[encoded data removed]",
      "text/plain": [
       "<Figure size 640x480 with 1 Axes>"
      ]
     },
     "metadata": {},
     "output_type": "display_data"
    }
   ],
   "source": [
    "plt.hist(move_length, histtype=\"barstacked\")\n",
    "plt.legend(names)\n",
    "plt.xlabel(\"Length of moves\")\n",
    "plt.ylabel(\"Count\")"
   ]
  },
  {
   "cell_type": "code",
   "execution_count": 79,
   "id": "89be9e6d",
   "metadata": {},
   "outputs": [
    {
     "data": {
      "text/plain": [
       "[[9,\n",
       "  4,\n",
       "  6,\n",
       "  8,\n",
       "  3,\n",
       "  3,\n",
       "  5,\n",
       "  3,\n",
       "  9,\n",
       "  7,\n",
       "  7,\n",
       "  9,\n",
       "  9,\n",
       "  6,\n",
       "  6,\n",
       "  3,\n",
       "  7,\n",
       "  8,\n",
       "  8,\n",
       "  10,\n",
       "  3,\n",
       "  5,\n",
       "  4,\n",
       "  5,\n",
       "  2,\n",
       "  4,\n",
       "  5,\n",
       "  7,\n",
       "  4,\n",
       "  6,\n",
       "  4,\n",
       "  5,\n",
       "  3,\n",
       "  5,\n",
       "  4,\n",
       "  7,\n",
       "  6,\n",
       "  4,\n",
       "  4,\n",
       "  7],\n",
       " [9,\n",
       "  4,\n",
       "  6,\n",
       "  8,\n",
       "  3,\n",
       "  4,\n",
       "  8,\n",
       "  3,\n",
       "  8,\n",
       "  7,\n",
       "  9,\n",
       "  9,\n",
       "  9,\n",
       "  7,\n",
       "  7,\n",
       "  3,\n",
       "  7,\n",
       "  8,\n",
       "  8,\n",
       "  9,\n",
       "  3,\n",
       "  7,\n",
       "  5,\n",
       "  5,\n",
       "  2,\n",
       "  4,\n",
       "  7,\n",
       "  7,\n",
       "  4,\n",
       "  6,\n",
       "  5,\n",
       "  7,\n",
       "  3,\n",
       "  7,\n",
       "  4,\n",
       "  5,\n",
       "  8,\n",
       "  5,\n",
       "  7,\n",
       "  7],\n",
       " [0,\n",
       "  0,\n",
       "  99,\n",
       "  0,\n",
       "  99,\n",
       "  21,\n",
       "  99,\n",
       "  15,\n",
       "  92,\n",
       "  0,\n",
       "  0,\n",
       "  98,\n",
       "  0,\n",
       "  99,\n",
       "  0,\n",
       "  95,\n",
       "  97,\n",
       "  0,\n",
       "  61,\n",
       "  0,\n",
       "  84,\n",
       "  7,\n",
       "  95,\n",
       "  99,\n",
       "  66,\n",
       "  2,\n",
       "  95,\n",
       "  0,\n",
       "  4,\n",
       "  100,\n",
       "  71,\n",
       "  0,\n",
       "  49,\n",
       "  99,\n",
       "  0,\n",
       "  3,\n",
       "  0,\n",
       "  99,\n",
       "  3,\n",
       "  99]]"
      ]
     },
     "execution_count": 79,
     "metadata": {},
     "output_type": "execute_result"
    }
   ],
   "source": [
    "num_moves"
   ]
  },
  {
   "cell_type": "markdown",
   "id": "a2e42216",
   "metadata": {},
   "source": [
    "# Start visualization"
   ]
  },
  {
   "cell_type": "code",
   "execution_count": 17,
   "id": "f1ad3074",
   "metadata": {},
   "outputs": [],
   "source": [
    "%matplotlib notebook"
   ]
  },
  {
   "cell_type": "code",
   "execution_count": 18,
   "id": "9b749560",
   "metadata": {},
   "outputs": [],
   "source": [
    "def obs_to_plots(obs, atoms_plt, mt_plt):\n",
    "    atom_grid, tar_grid, mt_grid = obs[0]\n",
    "    \n",
    "    dots = [[], []]\n",
    "    mt_pos = (0, 0)\n",
    "    for i in range(n):\n",
    "        for j in range(n):\n",
    "            if mt_grid[i, j] != 0:\n",
    "                mt_pos = (i, j, mt_grid[i, j])\n",
    "            if atom_grid[i, j] == 1:\n",
    "                dots[0].append(i)\n",
    "                dots[1].append(j)\n",
    "    print(obs)\n",
    "    atoms_plt.set_data(dots)\n",
    "    mt_plt.set_data(mt_pos[0], mt_pos[1])\n",
    "    mt_plt.set_marker('x' if mt_pos[2] == 1 else 'o')\n",
    "    \n",
    "    return atoms_plt, mt_plt"
   ]
  },
  {
   "cell_type": "code",
   "execution_count": null,
   "id": "5fa75b17",
   "metadata": {
    "scrolled": false
   },
   "outputs": [],
   "source": [
    "fig, ax = plt.subplots()\n",
    "\n",
    "n = args.ArraySize\n",
    "ax.set_xlim(-1, n)\n",
    "ax.set_ylim(-1, n)\n",
    "\n",
    "obs = envs.reset()\n",
    "atom_grid, tar_grid, mt_grid = obs[0]\n",
    "dots = [[], []]\n",
    "for i in range(n):\n",
    "    for j in range(n):\n",
    "        if tar_grid[i, j] == 1:\n",
    "            dots[0].append(i)\n",
    "            dots[1].append(j)\n",
    "\n",
    "targets, = ax.plot(dots[0], dots[1], 'gs', markersize=12, markerfacecolor=(1, 1, 0, 0.5))\n",
    "atoms, = ax.plot([], [], 'bo')\n",
    "mt, = ax.plot(0, 0, 'ro', markersize=10)\n",
    "\n",
    "# obs_to_plots(obs, atoms, mt)\n",
    "\n",
    "next_obs = torch.Tensor(obs)\n",
    "done = False\n",
    "def animate(frame_num):    \n",
    "    if done[0]:\n",
    "        ax.set_title(\"boobler\")\n",
    "        return None\n",
    "    \n",
    "    ax.set_title(\"boobler\")\n",
    "    with torch.no_grad():\n",
    "        action, logprob, _, _ = agent.get_action_and_value(next_obs)\n",
    "        \n",
    "    next_obs, reward, done, info = envs.step(action.cpu().numpy())\n",
    "    print(next_obs)\n",
    "    atoms, mt = obs_to_plots(next_obs, atoms, mt)\n",
    "    \n",
    "    next_obs = torch.Tensor(next_obs)\n",
    "    done = [done,]\n",
    "    return (atoms, mt)\n",
    "\n",
    "anim = FuncAnimation(fig, animate, frames=5, interval=1000, blit=True)\n",
    "\n",
    "plt.show()"
   ]
  },
  {
   "cell_type": "code",
   "execution_count": null,
   "id": "2bb4d42d",
   "metadata": {},
   "outputs": [],
   "source": []
  },
  {
   "cell_type": "code",
   "execution_count": null,
   "id": "c27f9b8e",
   "metadata": {},
   "outputs": [],
   "source": []
  },
  {
   "cell_type": "code",
   "execution_count": null,
   "id": "ffadc9d2",
   "metadata": {},
   "outputs": [],
   "source": [
    "\n",
    "\n"
   ]
  },
  {
   "cell_type": "code",
   "execution_count": null,
   "id": "116f7389",
   "metadata": {},
   "outputs": [],
   "source": []
  },
  {
   "cell_type": "code",
   "execution_count": null,
   "id": "5feb4b55",
   "metadata": {},
   "outputs": [],
   "source": []
  },
  {
   "cell_type": "markdown",
   "id": "6f79549e",
   "metadata": {},
   "source": [
    "## Masking testing"
   ]
  },
  {
   "cell_type": "code",
   "execution_count": 82,
   "id": "920a7bc2",
   "metadata": {},
   "outputs": [],
   "source": [
    "import torch\n",
    "import torch.nn as nn\n",
    "import torch.nn.functional as F"
   ]
  },
  {
   "cell_type": "code",
   "execution_count": 120,
   "id": "4e6fdf07",
   "metadata": {},
   "outputs": [],
   "source": [
    "obs1 = torch.tensor([[[0,1,1,1,1],[0,1,1,1,0],[1,0,1,0,1],[0,1,1,0,0],[1,0,1,1,0]],[[0,0,0,0,0],[0,1,1,1,0],[0,0,0,0,0],[0,0,0,0,0],[0,0,0,0,0]],[[0,0,0,0,0],[0,0,0,0,1],[0,0,0,0,0],[0,0,0,0,0],[0,0,0,0,0]]])\n",
    "obs2 = torch.tensor([[[0,1,1,1,1],[0,1,1,1,1],[1,0,1,0,1],[0,1,1,0,0],[1,0,1,1,0]],[[0,0,0,0,0],[0,1,1,1,0],[0,0,0,0,0],[0,0,0,0,0],[0,0,0,0,0]],[[0,0,0,0,0],[0,0,0,0,2],[0,0,0,0,0],[0,0,0,0,0],[0,0,0,0,0]]])\n",
    "\n",
    "batch = torch.tensor((obs1.numpy(), obs2.numpy()))"
   ]
  },
  {
   "cell_type": "code",
   "execution_count": 121,
   "id": "3e482228",
   "metadata": {},
   "outputs": [],
   "source": [
    "kernel = torch.tensor([[[[0, 1000, 0],[10, 10000, 1],[0, 100, 0]],  [[0, 0, 0],[0, 0, 0],[0, 0, 0]],  [[0, 0, 0],[0, 100000, 0],[0, 0, 0]]]])\n"
   ]
  },
  {
   "cell_type": "code",
   "execution_count": 122,
   "id": "862414e7",
   "metadata": {},
   "outputs": [],
   "source": [
    "has_atoms = torch.amax(batch, (1, 2, 3))\n",
    "\n",
    "padded = F.pad(batch, (1,)*4, value=2)\n",
    "detect = F.conv2d(padded, kernel)\n",
    "inter_masks = torch.amax(detect, (1, 2, 3))\n",
    "\n",
    "inter_masks = inter_masks + inter_masks * (has_atoms == 2)\n",
    "masks_ = torch.column_stack((\n",
    "    inter_masks % 10000 < 2000,\n",
    "    inter_masks % 1000 < 200,\n",
    "    inter_masks % 100 < 20,\n",
    "    inter_masks % 10 < 2,\n",
    "    torch.logical_and(has_atoms == 1, inter_masks % 100000 >= 10000),\n",
    "    has_atoms == 2\n",
    "))"
   ]
  },
  {
   "cell_type": "code",
   "execution_count": 123,
   "id": "376e7b88",
   "metadata": {},
   "outputs": [
    {
     "data": {
      "text/plain": [
       "tensor([[ True,  True,  True, False, False, False],\n",
       "        [False, False, False, False, False,  True]])"
      ]
     },
     "execution_count": 123,
     "metadata": {},
     "output_type": "execute_result"
    }
   ],
   "source": [
    "masks_"
   ]
  },
  {
   "cell_type": "code",
   "execution_count": 124,
   "id": "d5d45029",
   "metadata": {
    "scrolled": true
   },
   "outputs": [
    {
     "data": {
      "text/plain": [
       "tensor([[[0, 1, 1, 1, 1],\n",
       "         [0, 1, 1, 1, 0],\n",
       "         [1, 0, 1, 0, 1],\n",
       "         [0, 1, 1, 0, 0],\n",
       "         [1, 0, 1, 1, 0]],\n",
       "\n",
       "        [[0, 0, 0, 0, 0],\n",
       "         [0, 1, 1, 1, 0],\n",
       "         [0, 0, 0, 0, 0],\n",
       "         [0, 0, 0, 0, 0],\n",
       "         [0, 0, 0, 0, 0]],\n",
       "\n",
       "        [[0, 0, 0, 0, 0],\n",
       "         [0, 0, 0, 0, 1],\n",
       "         [0, 0, 0, 0, 0],\n",
       "         [0, 0, 0, 0, 0],\n",
       "         [0, 0, 0, 0, 0]]])"
      ]
     },
     "execution_count": 124,
     "metadata": {},
     "output_type": "execute_result"
    }
   ],
   "source": [
    "obs1"
   ]
  },
  {
   "cell_type": "code",
   "execution_count": 125,
   "id": "69a626dc",
   "metadata": {},
   "outputs": [
    {
     "data": {
      "text/plain": [
       "tensor([101112, 422224])"
      ]
     },
     "execution_count": 125,
     "metadata": {},
     "output_type": "execute_result"
    }
   ],
   "source": [
    "inter_masks"
   ]
  },
  {
   "cell_type": "code",
   "execution_count": 119,
   "id": "a4f36b3e",
   "metadata": {},
   "outputs": [
    {
     "data": {
      "text/plain": [
       "tensor([111112, 422224])"
      ]
     },
     "execution_count": 119,
     "metadata": {},
     "output_type": "execute_result"
    }
   ],
   "source": [
    "inter_masks"
   ]
  },
  {
   "cell_type": "code",
   "execution_count": 100,
   "id": "244e4e79",
   "metadata": {},
   "outputs": [
    {
     "data": {
      "text/plain": [
       "tensor([1, 2])"
      ]
     },
     "execution_count": 100,
     "metadata": {},
     "output_type": "execute_result"
    }
   ],
   "source": [
    "has_atoms"
   ]
  },
  {
   "cell_type": "code",
   "execution_count": 60,
   "id": "0b03e91f",
   "metadata": {},
   "outputs": [
    {
     "data": {
      "text/plain": [
       "tensor([[1, 1, 1, 1, 1],\n",
       "        [0, 1, 0, 0, 0],\n",
       "        [0, 1, 0, 0, 0]])"
      ]
     },
     "execution_count": 60,
     "metadata": {},
     "output_type": "execute_result"
    }
   ],
   "source": [
    "torch.amax(obs, 2)"
   ]
  },
  {
   "cell_type": "code",
   "execution_count": 77,
   "id": "5407f910",
   "metadata": {},
   "outputs": [
    {
     "data": {
      "text/plain": [
       "(tensor([ True, False]), tensor([False,  True]))"
      ]
     },
     "execution_count": 77,
     "metadata": {},
     "output_type": "execute_result"
    }
   ],
   "source": [
    "batch = torch.tensor((obs.numpy(), obs.numpy()*2))\n",
    "has_atom = torch.amax(batch, (1, 2, 3))\n",
    "has_atom == 1, has_atom == 2"
   ]
  },
  {
   "cell_type": "code",
   "execution_count": 111,
   "id": "21e2c010",
   "metadata": {
    "scrolled": true
   },
   "outputs": [
    {
     "data": {
      "text/plain": [
       "torch.Size([2, 3, 5, 5])"
      ]
     },
     "execution_count": 111,
     "metadata": {},
     "output_type": "execute_result"
    }
   ],
   "source": [
    "batch.shape"
   ]
  },
  {
   "cell_type": "code",
   "execution_count": null,
   "id": "92fbbd04",
   "metadata": {},
   "outputs": [],
   "source": []
  }
 ],
 "metadata": {
  "kernelspec": {
   "display_name": "Python 3 (ipykernel)",
   "language": "python",
   "name": "python3"
  },
  "language_info": {
   "codemirror_mode": {
    "name": "ipython",
    "version": 3
   },
   "file_extension": ".py",
   "mimetype": "text/x-python",
   "name": "python",
   "nbconvert_exporter": "python",
   "pygments_lexer": "ipython3",
   "version": "3.8.15"
  }
 },
 "nbformat": 4,
 "nbformat_minor": 5
}
