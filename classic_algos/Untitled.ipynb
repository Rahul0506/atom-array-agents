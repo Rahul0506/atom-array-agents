{
 "cells": [
  {
   "cell_type": "code",
   "execution_count": 91,
   "id": "d2a189d9",
   "metadata": {},
   "outputs": [],
   "source": [
    "import random\n",
    "from copy import deepcopy"
   ]
  },
  {
   "cell_type": "code",
   "execution_count": 101,
   "id": "508219ce",
   "metadata": {},
   "outputs": [
    {
     "data": {
      "text/plain": [
       "[['O', 'O', 'O', '_', '_', '_'],\n",
       " ['O', 'O', '_', '_', '_', '_'],\n",
       " ['O', 'O', 'O', '_', 'O', '_'],\n",
       " ['O', '_', 'O', '_', '_', '_'],\n",
       " ['O', '_', 'O', '_', '_', 'O'],\n",
       " ['_', 'O', '_', 'O', 'O', '_']]"
      ]
     },
     "execution_count": 101,
     "metadata": {},
     "output_type": "execute_result"
    }
   ],
   "source": [
    "n_rows = 6\n",
    "n_cols = n_rows\n",
    "\n",
    "grid = [[\"_\" for i in range(n_cols)] for j in range(n_rows)]\n",
    "atom_sites = []\n",
    "for i in range(n_rows):\n",
    "    for j in range(n_cols):\n",
    "        if random.random() < 0.5:\n",
    "            atom_sites.append((i, j))\n",
    "            grid[i][j] = \"O\"\n",
    "grid"
   ]
  },
  {
   "cell_type": "code",
   "execution_count": 102,
   "id": "63e2d887",
   "metadata": {},
   "outputs": [],
   "source": [
    "grid_ = deepcopy(grid)\n",
    "src, dst = [1, 2], [5, 0]"
   ]
  },
  {
   "cell_type": "code",
   "execution_count": 103,
   "id": "e234b5e8",
   "metadata": {},
   "outputs": [
    {
     "data": {
      "text/plain": [
       "[['O', 'O', 'O', '_', '_', '_'],\n",
       " ['O', 'O', 'X', '_', '_', '_'],\n",
       " ['O', 'O', 'X', '_', 'O', '_'],\n",
       " ['O', '_', 'X', '_', '_', '_'],\n",
       " ['O', '_', 'X', '_', '_', 'O'],\n",
       " ['X', 'X', 'X', 'O', 'O', '_']]"
      ]
     },
     "execution_count": 103,
     "metadata": {},
     "output_type": "execute_result"
    }
   ],
   "source": [
    "grid = deepcopy(grid_)\n",
    "\n",
    "grid[src[0]][src[1]] = \"S\"\n",
    "grid[dst[0]][dst[1]] = \"D\"\n",
    "\n",
    "x_sign = -1 if src[1] < dst[1] else 1\n",
    "y_sign = -1 if src[0] < dst[0] else 1\n",
    "for i in range(dst[1], src[1]+x_sign, x_sign):\n",
    "    grid[dst[0]][i] = \"X\"\n",
    "    \n",
    "for j in range(dst[0], src[0]+y_sign, y_sign):\n",
    "    grid[j][i] = \"X\"\n",
    "grid"
   ]
  },
  {
   "cell_type": "code",
   "execution_count": 104,
   "id": "b48183f1",
   "metadata": {},
   "outputs": [
    {
     "data": {
      "text/plain": [
       "[['O', 'O', 'O', '_', '_', '_'],\n",
       " ['X', 'X', 'X', '_', '_', '_'],\n",
       " ['X', 'O', 'O', '_', 'O', '_'],\n",
       " ['X', '_', 'O', '_', '_', '_'],\n",
       " ['X', '_', 'O', '_', '_', 'O'],\n",
       " ['X', 'O', '_', 'O', 'O', '_']]"
      ]
     },
     "execution_count": 104,
     "metadata": {},
     "output_type": "execute_result"
    }
   ],
   "source": [
    "grid = deepcopy(grid_)\n",
    "\n",
    "grid[src[0]][src[1]] = \"S\"\n",
    "grid[dst[0]][dst[1]] = \"D\"\n",
    "\n",
    "x_sign = -1 if src[1] < dst[1] else 1\n",
    "y_sign = -1 if src[0] < dst[0] else 1\n",
    "for j in range(dst[0], src[0]+y_sign, y_sign):\n",
    "    grid[j][dst[1]] = \"X\"\n",
    "    \n",
    "for i in range(dst[1], src[1]+x_sign, x_sign):\n",
    "    grid[j][i] = \"X\"\n",
    "    \n",
    "grid"
   ]
  },
  {
   "cell_type": "code",
   "execution_count": 61,
   "id": "eb390258",
   "metadata": {},
   "outputs": [
    {
     "data": {
      "text/plain": [
       "[3, 2, 1]"
      ]
     },
     "execution_count": 61,
     "metadata": {},
     "output_type": "execute_result"
    }
   ],
   "source": [
    "list(range(dst[0], src[0]+y_sign, y_sign))"
   ]
  },
  {
   "cell_type": "code",
   "execution_count": null,
   "id": "f949c7c4",
   "metadata": {},
   "outputs": [],
   "source": []
  }
 ],
 "metadata": {
  "kernelspec": {
   "display_name": "Python 3 (ipykernel)",
   "language": "python",
   "name": "python3"
  },
  "language_info": {
   "codemirror_mode": {
    "name": "ipython",
    "version": 3
   },
   "file_extension": ".py",
   "mimetype": "text/x-python",
   "name": "python",
   "nbconvert_exporter": "python",
   "pygments_lexer": "ipython3",
   "version": "3.8.15"
  }
 },
 "nbformat": 4,
 "nbformat_minor": 5
}
